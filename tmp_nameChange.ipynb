{
 "cells": [
  {
   "cell_type": "code",
   "execution_count": 4,
   "metadata": {},
   "outputs": [],
   "source": [
    "## ADD THIS is terra workspace creation\n",
    "import pandas as pd\n",
    "\n",
    "import sys\n",
    "sys.path.insert(1, \"Classes/\")\n",
    "from media_class import Medium, Supplement, GrowthMedium, Medium_one_hot, Supplement_one_hot, GrowthMedium_one_hot"
   ]
  },
  {
   "cell_type": "code",
   "execution_count": 61,
   "metadata": {},
   "outputs": [],
   "source": [
    "data = pd.read_pickle(\"Data/Ongoing/after_media.pkl\")"
   ]
  },
  {
   "cell_type": "code",
   "execution_count": 62,
   "metadata": {},
   "outputs": [],
   "source": [
    "disease1 = pd.read_csv(\"disease1.csv\", sep=',')\n",
    "disease2 = pd.read_csv(\"disease2.csv\", sep=',')"
   ]
  },
  {
   "cell_type": "code",
   "execution_count": 63,
   "metadata": {},
   "outputs": [],
   "source": [
    "disease1 = disease1.rename(columns={\"Preliminary Primary Diagnosis\": \"Primary_Disease\"})\n",
    "disease2 = disease2.rename(columns={\"Row Labels\": \"Primary_Disease\"})"
   ]
  },
  {
   "cell_type": "code",
   "execution_count": 64,
   "metadata": {},
   "outputs": [],
   "source": [
    "disease1[\"Primary_Disease\"] = [x.upper() for x in disease1[\"Primary_Disease\"]]\n",
    "disease2[\"Primary_Disease\"] = [x.upper() for x in disease2[\"Primary_Disease\"]]"
   ]
  },
  {
   "cell_type": "code",
   "execution_count": 65,
   "metadata": {},
   "outputs": [],
   "source": [
    "disease1 = disease1[~disease1[\"Primary_Disease\"].isin(disease2[\"Primary_Disease\"].tolist())]"
   ]
  },
  {
   "cell_type": "code",
   "execution_count": 66,
   "metadata": {},
   "outputs": [],
   "source": [
    "disease_names = pd.concat([disease1, disease2])"
   ]
  },
  {
   "cell_type": "code",
   "execution_count": 67,
   "metadata": {},
   "outputs": [],
   "source": [
    "data[\"Primary_Disease\"] = [str(x).upper() for x in data[\"Primary_Disease\"]]"
   ]
  },
  {
   "cell_type": "code",
   "execution_count": 70,
   "metadata": {},
   "outputs": [],
   "source": [
    "result = pd.merge(data, disease_names, on='Primary_Disease', how=\"left\")"
   ]
  },
  {
   "cell_type": "code",
   "execution_count": 72,
   "metadata": {},
   "outputs": [],
   "source": [
    "result.to_pickle(\"Data/Ongoing/after_media2.pkl\")"
   ]
  },
  {
   "cell_type": "code",
   "execution_count": 85,
   "metadata": {},
   "outputs": [
    {
     "data": {
      "text/plain": [
       "Counter({nan: 1294,\n",
       "         'Need more information (is it possible to know which case? so we can find out from collaborators)': 192,\n",
       "         'Non-Cutaneous Melanoma (C8711)': 81,\n",
       "         'Glioblastoma (C3058)': 114,\n",
       "         'Glioma (C3059)': 33,\n",
       "         'Pancreatic Adenocarcinoma (C8294)': 42,\n",
       "         'Clear Cell Renal Cell Carcinoma (C4033)': 4,\n",
       "         'Kidney Carcinoma (C9384)': 91,\n",
       "         'Angiosarcoma (C3088)': 68,\n",
       "         'Thyroid Gland Papillary Carcinoma (C4035)': 1,\n",
       "         'Neuroblastoma (C3270)': 55,\n",
       "         'Medulloblastoma (C3222)': 24,\n",
       "         'Anaplastic (Malignant) Meningioma (C4051)': 4,\n",
       "         'Chordoma (C2947)': 135,\n",
       "         'Osteosarcoma (C9145)': 101,\n",
       "         'Alveolar Rhabdomyosarcoma (C3749)': 20,\n",
       "         'Paraganglioma (C3308)': 4,\n",
       "         'Sarcoma (C9118)': 13,\n",
       "         'Gastric Adenocarcinoma (C4004)': 23,\n",
       "         'Adenocarcinoma (C2852)': 5,\n",
       "         'Inflammatory Myofibroblastic Tumor (C6481)': 2,\n",
       "         'Cholangiocarcinoma (C4436)': 109,\n",
       "         'Infantile Fibrosarcoma (C4244)': 2,\n",
       "         'Kidney Wilms Tumor (C40407)': 24,\n",
       "         'Embryonal Rhabdomyosarcoma (C8971)': 4,\n",
       "         'Oligodendroglioma (C3288)': 2,\n",
       "         'Non-Small Cell Lung Carcinoma (C2926)': 59,\n",
       "         'Pituitary Gland Adenoma (C3329)': 4,\n",
       "         'Liposarcoma (C3194)': 1,\n",
       "         'Hepatoblastoma (C3728)': 3,\n",
       "         'Rhabdomyosarcoma (C3359)': 4,\n",
       "         'Leiomyosarcoma (C3158)': 588,\n",
       "         'Squamous Cell Lung Carcinoma (C3493)': 32,\n",
       "         'Kidney Medullary Carcinoma (C7572)': 1,\n",
       "         'Desmoid-Type Fibromatosis (C9182)': 87,\n",
       "         'Ewing Sarcoma (C4817)': 56,\n",
       "         'Lung Adenocarcinoma (C3512)': 54,\n",
       "         'Pancreatic Neuroendocrine Tumor (C27720)': 6,\n",
       "         'Small Intestinal Carcinoma (C7724)': 22,\n",
       "         'Papillary Renal Cell Carcinoma (C6975)': 16})"
      ]
     },
     "execution_count": 85,
     "metadata": {},
     "output_type": "execute_result"
    }
   ],
   "source": [
    "from collections import Counter\n",
    "Counter(result[\"Lowest Level\"])"
   ]
  },
  {
   "cell_type": "code",
   "execution_count": null,
   "metadata": {},
   "outputs": [],
   "source": []
  }
 ],
 "metadata": {
  "kernelspec": {
   "display_name": "Python 3",
   "language": "python",
   "name": "python3"
  },
  "language_info": {
   "codemirror_mode": {
    "name": "ipython",
    "version": 3
   },
   "file_extension": ".py",
   "mimetype": "text/x-python",
   "name": "python",
   "nbconvert_exporter": "python",
   "pygments_lexer": "ipython3",
   "version": "3.8.1"
  }
 },
 "nbformat": 4,
 "nbformat_minor": 4
}
