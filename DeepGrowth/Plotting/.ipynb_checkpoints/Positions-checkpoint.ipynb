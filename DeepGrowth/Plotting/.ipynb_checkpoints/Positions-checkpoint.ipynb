{
 "cells": [
  {
   "cell_type": "code",
   "execution_count": 146,
   "metadata": {},
   "outputs": [],
   "source": [
    "data = pandas.read_csv('targets.padded.100.tsv', sep='\\t')\n",
    "data.rename(columns = {'contig': '#chrom', 'start': 'chromStart', 'stop':'chromEnd'}, inplace = True)\n",
    "data[\"#chrom\"] = [\"chr\"+str(x) for x in data[\"#chrom\"]]"
   ]
  },
  {
   "cell_type": "code",
   "execution_count": 147,
   "metadata": {},
   "outputs": [],
   "source": [
    "data[\"gieStain\"] = \"gpos100\""
   ]
  },
  {
   "cell_type": "code",
   "execution_count": 148,
   "metadata": {},
   "outputs": [],
   "source": [
    "data[\"chromStart\"]= data[\"chromStart\"] - 100000\n",
    "data[\"chromEnd\"]= data[\"chromEnd\"] + 100000"
   ]
  },
  {
   "cell_type": "code",
   "execution_count": 149,
   "metadata": {},
   "outputs": [],
   "source": [
    "data.to_csv(r'ideogram.txt', header=None, index=None, sep='\\t', mode='a')"
   ]
  },
  {
   "cell_type": "code",
   "execution_count": 189,
   "metadata": {},
   "outputs": [
    {
     "name": "stdout",
     "output_type": "stream",
     "text": [
      "adding ideograms...\n",
      "chr1\n",
      "chr10\n",
      "chr11\n",
      "chr12\n",
      "chr13\n",
      "chr14\n",
      "chr15\n",
      "chr16\n",
      "chr17\n",
      "chr18\n",
      "chr19\n",
      "chr2\n",
      "chr20\n",
      "chr21\n",
      "chr22\n",
      "chr3\n",
      "chr4\n",
      "chr5\n",
      "chr6\n",
      "chr7\n",
      "chr8\n",
      "chr9\n",
      "chrX\n",
      "chrY\n"
     ]
    },
    {
     "data": {
      "image/png": "[encoded data removed]",
      "text/plain": [
       "<Figure size 1440x720 with 1 Axes>"
      ]
     },
     "metadata": {
      "needs_background": "light"
     },
     "output_type": "display_data"
    }
   ],
   "source": [
    "\"\"\"\n",
    "Demonstrates plotting chromosome ideograms and genes (or any features, really)\n",
    "using matplotlib.\n",
    "1) Assumes a file from UCSC's Table Browser from the \"cytoBandIdeo\" table,\n",
    "saved as \"ideogram.txt\". Lines look like this::\n",
    "    #chrom  chromStart  chromEnd  name    gieStain\n",
    "    chr1    0           2300000   p36.33  gneg\n",
    "    chr1    2300000     5300000   p36.32  gpos25\n",
    "    chr1    5300000     7100000   p36.31  gneg\n",
    "2) Assumes another file, \"ucsc_genes.txt\", which is a BED format file\n",
    "   downloaded from UCSC's Table Browser. This script will work with any\n",
    "   BED-format file.\n",
    "\"\"\"\n",
    "\n",
    "from matplotlib import pyplot as plt\n",
    "from matplotlib.collections import BrokenBarHCollection\n",
    "import pandas\n",
    "\n",
    "\n",
    "# Here's the function that we'll call for each dataframe (once for chromosome\n",
    "# ideograms, once for genes).  The rest of this script will be prepping data\n",
    "# for input to this function\n",
    "#\n",
    "def chromosome_collections(df, y_positions, height,  **kwargs):\n",
    "    \"\"\"\n",
    "    Yields BrokenBarHCollection of features that can be added to an Axes\n",
    "    object.\n",
    "    Parameters\n",
    "    ----------\n",
    "    df : pandas.DataFrame\n",
    "        Must at least have columns ['chrom', 'start', 'end', 'color']. If no\n",
    "        column 'width', it will be calculated from start/end.\n",
    "    y_positions : dict\n",
    "        Keys are chromosomes, values are y-value at which to anchor the\n",
    "        BrokenBarHCollection\n",
    "    height : float\n",
    "        Height of each BrokenBarHCollection\n",
    "    Additional kwargs are passed to BrokenBarHCollection\n",
    "    \"\"\"\n",
    "    del_width = False\n",
    "    if 'width' not in df.columns:\n",
    "        del_width = True\n",
    "        df['width'] = df['end'] - df['start']\n",
    "    for chrom, group in df.groupby('chrom'):\n",
    "        print(chrom)\n",
    "        yrange = (y_positions[chrom], height)\n",
    "        xranges = group[['start', 'width']].values\n",
    "        yield BrokenBarHCollection(\n",
    "            xranges, yrange, facecolors=group['colors'], **kwargs)\n",
    "    if del_width:\n",
    "        del df['width']\n",
    "\n",
    "# Height of each ideogram\n",
    "chrom_height = 1.2\n",
    "\n",
    "# Spacing between consecutive ideograms\n",
    "chrom_spacing = 1\n",
    "\n",
    "# Height of the gene track. Should be smaller than `chrom_spacing` in order to\n",
    "# fit correctly\n",
    "gene_height = 0.2\n",
    "\n",
    "# Padding between the top of a gene track and its corresponding ideogram\n",
    "gene_padding = 0.1\n",
    "\n",
    "# Width, height (in inches)\n",
    "figsize = (20,10)\n",
    "\n",
    "# Decide which chromosomes to use\n",
    "chromosome_list = ['chr%s' % i for i in list(range(1, 23)) + ['X', 'Y']]\n",
    "\n",
    "# Keep track of the y positions for ideograms and genes for each chromosome,\n",
    "# and the center of each ideogram (which is where we'll put the ytick labels)\n",
    "ybase = 0\n",
    "chrom_ybase = {}\n",
    "gene_ybase = {}\n",
    "chrom_centers = {}\n",
    "\n",
    "# Iterate in reverse so that items in the beginning of `chromosome_list` will\n",
    "# appear at the top of the plot\n",
    "for chrom in chromosome_list[::-1]:\n",
    "    chrom_ybase[chrom] = ybase\n",
    "    chrom_centers[chrom] = ybase + chrom_height / 2.\n",
    "    gene_ybase[chrom] = ybase - gene_height - gene_padding\n",
    "    ybase += chrom_height + chrom_spacing\n",
    "\n",
    "# Read in ideogram.txt, downloaded from UCSC Table Browser\n",
    "ideo = pandas.read_table(\n",
    "    'ideogram.txt',\n",
    "    skiprows=1,\n",
    "    names=['chrom', 'start', 'end', 'name', 'gieStain']\n",
    ")\n",
    "\n",
    "# Filter out chromosomes not in our list\n",
    "ideo = ideo[ideo.chrom.apply(lambda x: x in chromosome_list)]\n",
    "\n",
    "# Add a new column for width\n",
    "ideo['width'] = ideo.end - ideo.start\n",
    "\n",
    "# Colors for different chromosome stains\n",
    "color_lookup = {\n",
    "    'gneg': (1., 1., 1.),\n",
    "    'gneg': (.7, .7, .7),\n",
    "    'gpos50': (.4, .4, .4),\n",
    "    '75': (.2, .2, .2),\n",
    "    'gpos100': (0., 0., 0.),\n",
    "    'gpos5': (.8, .4, .4),\n",
    "    'g': (.8, .8, .8),\n",
    "    'g': (.9, .9, .9),\n",
    "}\n",
    "\n",
    "# Add a new column for colors\n",
    "ideo['colors'] = ideo['gieStain'].apply(lambda x: color_lookup[x])\n",
    "\n",
    "\n",
    "\n",
    "\n",
    "fig = plt.figure(figsize=figsize)\n",
    "ax = fig.add_subplot(111)\n",
    "\n",
    "\n",
    "\n",
    "# Now all we have to do is call our function for the ideogram data...\n",
    "print(\"adding ideograms...\")\n",
    "for collection in chromosome_collections(ideo, chrom_ybase, chrom_height):\n",
    "    ax.add_collection(collection)\n",
    "\n",
    "# Axes tweaking\n",
    "ax.set_yticks([chrom_centers[i] for i in chromosome_list])\n",
    "ax.set_yticklabels(chromosome_list, fontsize=14)\n",
    "ax.axis('tight')\n",
    "ax.set_xticks([])\n",
    "plt.show()"
   ]
  },
  {
   "cell_type": "code",
   "execution_count": 169,
   "metadata": {},
   "outputs": [
    {
     "data": {
      "image/png": "[encoded data removed]",
      "text/plain": [
       "<Figure size 1440x720 with 1 Axes>"
      ]
     },
     "metadata": {
      "needs_background": "light"
     },
     "output_type": "display_data"
    }
   ],
   "source": [
    "\"\"\"\n",
    "Rough script to plot chromosome ideograms using data from UCSC\n",
    "\"\"\"\n",
    "from matplotlib import pyplot as plt\n",
    "from matplotlib.collections import BrokenBarHCollection\n",
    "\n",
    "color_lookup = {\n",
    "                  'gpos100': (1., 1., 1.),\n",
    "                'gneg': (.6, .6, .6),\n",
    "                'gpos50': (.4, .4, .4),\n",
    "                'gpos75': (.2, .2, .2),\n",
    "               'gpos25': (0., 0., 0.),\n",
    "                  'acen': (.8, .4, .4),\n",
    "                  'gvar': (.8, .8, .8),\n",
    "                 'stalk': (.9, .9, .9),\n",
    "               }\n",
    "\n",
    "height = 0.9\n",
    "spacing = 0.9\n",
    "\n",
    "def ideograms(fn):\n",
    "    last_chrom = None\n",
    "    fin = open(fn)\n",
    "    fin.readline()\n",
    "    xranges, colors = [], []\n",
    "    ymin = 0\n",
    "\n",
    "    for line in fin:\n",
    "        chrom, start, stop, label, stain = line.strip().split('\\t')\n",
    "        start = int(start)\n",
    "        stop = int(stop)\n",
    "        width = stop - start\n",
    "        if chrom == last_chrom or (last_chrom is None):\n",
    "            xranges.append((start, width))\n",
    "            colors.append(color_lookup[stain])\n",
    "            last_chrom = chrom\n",
    "            continue\n",
    "\n",
    "        ymin += height + spacing\n",
    "        yrange = (ymin, height)\n",
    "        yield xranges, yrange, colors, last_chrom\n",
    "        xranges, colors = [], []\n",
    "        xranges.append((start, width))\n",
    "        colors.append(color_lookup[stain])\n",
    "        last_chrom = chrom\n",
    "\n",
    "    # last one\n",
    "    ymin += height + spacing\n",
    "    yrange = (ymin, height)\n",
    "    yield xranges, yrange, colors, last_chrom\n",
    "\n",
    "fig = plt.figure(figsize=(20,10))\n",
    "ax = fig.add_subplot(111)\n",
    "d = {}\n",
    "yticks = []\n",
    "yticklabels = []\n",
    "\n",
    "# ideogram.txt downloaded from UCSC's table browser\n",
    "for xranges, yrange, colors, label in ideograms('ideogram.txt'):\n",
    "    coll = BrokenBarHCollection(xranges, yrange, facecolors=colors)\n",
    "    ax.add_collection(coll)\n",
    "    center = yrange[0] + yrange[1]/2.\n",
    "    yticks.append(center)\n",
    "    yticklabels.append(label)\n",
    "    d[label] = xranges\n",
    "\n",
    "ax.axis('tight')\n",
    "ax.set_yticks(yticks)\n",
    "ax.set_yticklabels(yticklabels)\n",
    "ax.set_xticks([])\n",
    "plt.show()"
   ]
  },
  {
   "cell_type": "markdown",
   "metadata": {},
   "source": [
    "## FIGURE 2"
   ]
  },
  {
   "cell_type": "code",
   "execution_count": 199,
   "metadata": {},
   "outputs": [],
   "source": [
    "import pandas as pd\n",
    "\n",
    "# Currently use sys to get other script\n",
    "import sys\n",
    "sys.path.insert(1, \"/Users/dspaande/Documents/GitProjects/Broad_DJ_AI/DeepGrowth/Classes/\")\n",
    "from media_class import Medium, Supplement, GrowthMedium, Medium_one_hot, Supplement_one_hot, GrowthMedium_one_hot\n",
    "from gene_one_hot import one_hot\n",
    "\n",
    "# Currently use sys to get other script\n",
    "sys.path.insert(1, \"/Users/dspaande/Documents/GitProjects/Broad_DJ_AI/DeepGrowth/Utils/\")\n",
    "from help_functions import mean, str_to_bool, str_none_check\n",
    "\n",
    "test = pd.read_pickle(r'../../Data/all/maf_extract.pkl')"
   ]
  },
  {
   "cell_type": "code",
   "execution_count": 210,
   "metadata": {},
   "outputs": [],
   "source": [
    "from collections import Counter"
   ]
  },
  {
   "cell_type": "code",
   "execution_count": null,
   "metadata": {},
   "outputs": [],
   "source": []
  },
  {
   "cell_type": "markdown",
   "metadata": {},
   "source": [
    "## FIGURE 3"
   ]
  },
  {
   "cell_type": "code",
   "execution_count": 217,
   "metadata": {},
   "outputs": [],
   "source": [
    "test = pd.read_pickle(r'../../Data/all/after_media.pkl')"
   ]
  },
  {
   "cell_type": "code",
   "execution_count": 242,
   "metadata": {},
   "outputs": [],
   "source": [
    "test = test.groupby([\"Disease_highest_level\", \"Growth\"]).size().reset_index(name=\"Time\")"
   ]
  },
  {
   "cell_type": "code",
   "execution_count": 234,
   "metadata": {},
   "outputs": [],
   "source": [
    "test2 = test[test[\"Disease_highest_level\"] != \"Unknown\"]\n",
    "test2 = test2.groupby([\"Disease_highest_level\", \"Growth\"]).size().reset_index(name=\"Time\")\n",
    "test3 = test[test[\"Disease_lowest_level\"] != \"Unknown\"]\n",
    "test2 = test2.groupby([\"Disease_highest_level\", \"Growth\"]).size().reset_index(name=\"Time\")"
   ]
  },
  {
   "cell_type": "code",
   "execution_count": 221,
   "metadata": {},
   "outputs": [],
   "source": [
    "test[\"Primary_Disease\"] = [str(x) for x in test[\"Primary_Disease\"]]"
   ]
  },
  {
   "cell_type": "code",
   "execution_count": 235,
   "metadata": {},
   "outputs": [
    {
     "data": {
      "text/plain": [
       "Counter({'Hematopoietic and Lymphoid System Neoplasm (C35813)': 102,\n",
       "         'Respiratory Tract Neoplasm (C3355)': 541,\n",
       "         'Head and Neck Neoplasm (C3077)': 30,\n",
       "         'Skin Neoplasm (C3372)': 11,\n",
       "         'Digestive System Neoplasm (C3052)': 290,\n",
       "         'Melanoma (C3224)': 187,\n",
       "         'Connective and Soft Tissue Neoplasm (C3810)': 1102,\n",
       "         'Urinary System Neoplasm (C3431)': 383,\n",
       "         'Nervous System Neoplasm (C3268)': 319,\n",
       "         'Breast Neoplasm (C2910)': 121,\n",
       "         'Germ Cell Tumor (C3708)': 5,\n",
       "         'Reproductive System Neoplasm (C3674)': 37,\n",
       "         'Rhabdoid Tumor (C3808)': 4,\n",
       "         'Carcinoma (C2916)': 1,\n",
       "         'Endocrine Neoplasm (C3010)': 4,\n",
       "         'Thoracic Neoplasm (C3406)': 32})"
      ]
     },
     "execution_count": 235,
     "metadata": {},
     "output_type": "execute_result"
    }
   ],
   "source": [
    "Counter(test2[\"Disease_highest_level\"])"
   ]
  },
  {
   "cell_type": "code",
   "execution_count": 236,
   "metadata": {},
   "outputs": [],
   "source": [
    "import seaborn as sns"
   ]
  },
  {
   "cell_type": "code",
   "execution_count": 240,
   "metadata": {},
   "outputs": [
    {
     "ename": "ValueError",
     "evalue": "Could not interpret input 'continent'",
     "output_type": "error",
     "traceback": [
      "\u001b[0;31m---------------------------------------------------------------------------\u001b[0m",
      "\u001b[0;31mValueError\u001b[0m                                Traceback (most recent call last)",
      "\u001b[0;32m<ipython-input-240-1dfa717f7cde>\u001b[0m in \u001b[0;36m<module>\u001b[0;34m\u001b[0m\n\u001b[0;32m----> 1\u001b[0;31m sns.boxplot(y='Growth', x='continent', \n\u001b[0m\u001b[1;32m      2\u001b[0m                  \u001b[0mdata\u001b[0m\u001b[0;34m=\u001b[0m\u001b[0mtest2\u001b[0m\u001b[0;34m,\u001b[0m\u001b[0;34m\u001b[0m\u001b[0;34m\u001b[0m\u001b[0m\n\u001b[1;32m      3\u001b[0m                  \u001b[0mpalette\u001b[0m\u001b[0;34m=\u001b[0m\u001b[0;34m\"colorblind\"\u001b[0m\u001b[0;34m,\u001b[0m\u001b[0;34m\u001b[0m\u001b[0;34m\u001b[0m\u001b[0m\n\u001b[1;32m      4\u001b[0m                  hue='Disease_highest_level')\n",
      "\u001b[0;32m~/miniconda3/envs/ML/lib/python3.8/site-packages/seaborn/categorical.py\u001b[0m in \u001b[0;36mboxplot\u001b[0;34m(x, y, hue, data, order, hue_order, orient, color, palette, saturation, width, dodge, fliersize, linewidth, whis, ax, **kwargs)\u001b[0m\n\u001b[1;32m   2231\u001b[0m             whis=1.5, ax=None, **kwargs):\n\u001b[1;32m   2232\u001b[0m \u001b[0;34m\u001b[0m\u001b[0m\n\u001b[0;32m-> 2233\u001b[0;31m     plotter = _BoxPlotter(x, y, hue, data, order, hue_order,\n\u001b[0m\u001b[1;32m   2234\u001b[0m                           \u001b[0morient\u001b[0m\u001b[0;34m,\u001b[0m \u001b[0mcolor\u001b[0m\u001b[0;34m,\u001b[0m \u001b[0mpalette\u001b[0m\u001b[0;34m,\u001b[0m \u001b[0msaturation\u001b[0m\u001b[0;34m,\u001b[0m\u001b[0;34m\u001b[0m\u001b[0;34m\u001b[0m\u001b[0m\n\u001b[1;32m   2235\u001b[0m                           width, dodge, fliersize, linewidth)\n",
      "\u001b[0;32m~/miniconda3/envs/ML/lib/python3.8/site-packages/seaborn/categorical.py\u001b[0m in \u001b[0;36m__init__\u001b[0;34m(self, x, y, hue, data, order, hue_order, orient, color, palette, saturation, width, dodge, fliersize, linewidth)\u001b[0m\n\u001b[1;32m    434\u001b[0m                  width, dodge, fliersize, linewidth):\n\u001b[1;32m    435\u001b[0m \u001b[0;34m\u001b[0m\u001b[0m\n\u001b[0;32m--> 436\u001b[0;31m         \u001b[0mself\u001b[0m\u001b[0;34m.\u001b[0m\u001b[0mestablish_variables\u001b[0m\u001b[0;34m(\u001b[0m\u001b[0mx\u001b[0m\u001b[0;34m,\u001b[0m \u001b[0my\u001b[0m\u001b[0;34m,\u001b[0m \u001b[0mhue\u001b[0m\u001b[0;34m,\u001b[0m \u001b[0mdata\u001b[0m\u001b[0;34m,\u001b[0m \u001b[0morient\u001b[0m\u001b[0;34m,\u001b[0m \u001b[0morder\u001b[0m\u001b[0;34m,\u001b[0m \u001b[0mhue_order\u001b[0m\u001b[0;34m)\u001b[0m\u001b[0;34m\u001b[0m\u001b[0;34m\u001b[0m\u001b[0m\n\u001b[0m\u001b[1;32m    437\u001b[0m         \u001b[0mself\u001b[0m\u001b[0;34m.\u001b[0m\u001b[0mestablish_colors\u001b[0m\u001b[0;34m(\u001b[0m\u001b[0mcolor\u001b[0m\u001b[0;34m,\u001b[0m \u001b[0mpalette\u001b[0m\u001b[0;34m,\u001b[0m \u001b[0msaturation\u001b[0m\u001b[0;34m)\u001b[0m\u001b[0;34m\u001b[0m\u001b[0;34m\u001b[0m\u001b[0m\n\u001b[1;32m    438\u001b[0m \u001b[0;34m\u001b[0m\u001b[0m\n",
      "\u001b[0;32m~/miniconda3/envs/ML/lib/python3.8/site-packages/seaborn/categorical.py\u001b[0m in \u001b[0;36mestablish_variables\u001b[0;34m(self, x, y, hue, data, orient, order, hue_order, units)\u001b[0m\n\u001b[1;32m    150\u001b[0m                 \u001b[0;32mif\u001b[0m \u001b[0misinstance\u001b[0m\u001b[0;34m(\u001b[0m\u001b[0mvar\u001b[0m\u001b[0;34m,\u001b[0m \u001b[0mstr\u001b[0m\u001b[0;34m)\u001b[0m\u001b[0;34m:\u001b[0m\u001b[0;34m\u001b[0m\u001b[0;34m\u001b[0m\u001b[0m\n\u001b[1;32m    151\u001b[0m                     \u001b[0merr\u001b[0m \u001b[0;34m=\u001b[0m \u001b[0;34m\"Could not interpret input '{}'\"\u001b[0m\u001b[0;34m.\u001b[0m\u001b[0mformat\u001b[0m\u001b[0;34m(\u001b[0m\u001b[0mvar\u001b[0m\u001b[0;34m)\u001b[0m\u001b[0;34m\u001b[0m\u001b[0;34m\u001b[0m\u001b[0m\n\u001b[0;32m--> 152\u001b[0;31m                     \u001b[0;32mraise\u001b[0m \u001b[0mValueError\u001b[0m\u001b[0;34m(\u001b[0m\u001b[0merr\u001b[0m\u001b[0;34m)\u001b[0m\u001b[0;34m\u001b[0m\u001b[0;34m\u001b[0m\u001b[0m\n\u001b[0m\u001b[1;32m    153\u001b[0m \u001b[0;34m\u001b[0m\u001b[0m\n\u001b[1;32m    154\u001b[0m             \u001b[0;31m# Figure out the plotting orientation\u001b[0m\u001b[0;34m\u001b[0m\u001b[0;34m\u001b[0m\u001b[0;34m\u001b[0m\u001b[0m\n",
      "\u001b[0;31mValueError\u001b[0m: Could not interpret input 'continent'"
     ]
    }
   ],
   "source": [
    "sns.boxplot(y='Growth', x='continent', \n",
    "                 data=test2, \n",
    "                 palette=\"colorblind\",\n",
    "                 hue='Disease_highest_level')"
   ]
  },
  {
   "cell_type": "code",
   "execution_count": 238,
   "metadata": {},
   "outputs": [
    {
     "data": {
      "text/plain": [
       "Index(['Cell_Line_Starting_Sample', 'PT-ID', 'SM-ID', 'Status',\n",
       "       'Resolution_Original', 'Type', 'Primary_Disease', 'Tissue_Site',\n",
       "       'Tumor_Type', 'Cell_Line', 'Media_type', 'Dimension', 'Flask_coating',\n",
       "       'Starting_Material_Type', 'Fail_Mode', 'Dataset', 'Resolution',\n",
       "       'Growth', 'PANEL_renamed_bai_file', 'PANEL_renamed_bam_file',\n",
       "       'PANEL_depth_of_cov_qc_result', 'PANEL_cnv_calls', 'PANEL_media',\n",
       "       'PANEL_tn_decision_clean', 'PANEL_filtered_variants',\n",
       "       'PANEL_mutect1_callstats', 'PANEL_mutect1_coveragewig',\n",
       "       'PANEL_mutect1_powerwig', 'PANEL_mutect1_vcf', 'PANEL_mutect2_vcf',\n",
       "       'PANEL_oncotated_maf_mutect1', 'PANEL_oncotated_maf_mutect2',\n",
       "       'PANEL_Dataset', 'RNA_fastq1', 'RNA_fastq2', 'RNA_bai_file_rna',\n",
       "       'RNA_bam_file_rna', 'RNA_fusion_predictions',\n",
       "       'RNA_fusion_predictions_abridged', 'RNA_rnaseqc_count_metrics',\n",
       "       'RNA_rnaseqc_count_outputs', 'RNA_rnaseqc_exon_counts',\n",
       "       'RNA_rnaseqc_gene_counts', 'RNA_rnaseqc_gene_rpkm', 'RNA_rsem_genes',\n",
       "       'RNA_rsem_isoforms', 'RNA_star_bam_file', 'RNA_star_bam_index',\n",
       "       'RNA_star_chimeric_bam_index', 'RNA_star_chimeric_junctions',\n",
       "       'RNA_star_junctions', 'RNA_star_junctions_pass1',\n",
       "       'RNA_star_md_bam_file', 'RNA_star_md_bam_index', 'RNA_star_read_counts',\n",
       "       'RNA_star_transcriptome_bam', 'WES_formatted_bai_file',\n",
       "       'WES_formatted_bam_file', 'WES_cnv_calls', 'RNA_match',\n",
       "       'Disease_highest_level', 'Disease_lowest_level', 'media_class',\n",
       "       'one-hot'],\n",
       "      dtype='object')"
      ]
     },
     "execution_count": 238,
     "metadata": {},
     "output_type": "execute_result"
    }
   ],
   "source": [
    "test.columns"
   ]
  },
  {
   "cell_type": "code",
   "execution_count": null,
   "metadata": {},
   "outputs": [],
   "source": []
  }
 ],
 "metadata": {
  "kernelspec": {
   "display_name": "Python 3.8.3 64-bit",
   "language": "python",
   "name": "python38364bit0fdbf8d564cd4253bce2a56990d95a7e"
  },
  "language_info": {
   "codemirror_mode": {
    "name": "ipython",
    "version": 3
   },
   "file_extension": ".py",
   "mimetype": "text/x-python",
   "name": "python",
   "nbconvert_exporter": "python",
   "pygments_lexer": "ipython3",
   "version": "3.8.3"
  }
 },
 "nbformat": 4,
 "nbformat_minor": 4
}
