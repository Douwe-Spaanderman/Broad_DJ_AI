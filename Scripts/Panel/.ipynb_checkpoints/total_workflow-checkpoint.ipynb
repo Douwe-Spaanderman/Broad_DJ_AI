{
 "cells": [
  {
   "cell_type": "code",
   "execution_count": 14,
   "metadata": {},
   "outputs": [],
   "source": [
    "import pandas as pd\n",
    "import numpy as np \n",
    "import os"
   ]
  },
  {
   "cell_type": "markdown",
   "metadata": {},
   "source": [
    "## load data"
   ]
  },
  {
   "cell_type": "code",
   "execution_count": 15,
   "metadata": {},
   "outputs": [],
   "source": [
    "# Currently use sys to get other script\n",
    "import sys\n",
    "sys.path.insert(1, \"../Classes/\")\n",
    "from gene_one_hot import one_hot\n",
    "def maf_data(data, Path):\n",
    "    '''\n",
    "\n",
    "    '''\n",
    "    if Path != False:\n",
    "        if not Path.endswith(\".pkl\"):\n",
    "            Path = Path + \"maf_extract_summary.pkl\"\n",
    "        \n",
    "        data = pd.read_pickle(Path)\n",
    "\n",
    "    return data\n",
    "\n",
    "maf_data = maf_data(data=False, Path=\"../Data/Ongoing/\")"
   ]
  },
  {
   "cell_type": "code",
   "execution_count": 3,
   "metadata": {},
   "outputs": [],
   "source": [
    "# Currently use sys to get other script\n",
    "import sys\n",
    "sys.path.insert(1, \"../Classes/\")\n",
    "from media_class import Medium, Supplement, GrowthMedium, Medium_one_hot, Supplement_one_hot, GrowthMedium_one_hot\n",
    "\n",
    "def other_data(data, Path):\n",
    "    '''\n",
    "\n",
    "    '''\n",
    "    if Path != False:\n",
    "        if not Path.endswith(\".pkl\"):\n",
    "            Path = Path + \"after_media.pkl\"\n",
    "        \n",
    "        data = pd.read_pickle(Path)\n",
    "\n",
    "    return data \n",
    "\n",
    "meta_data = other_data(data=False, Path=\"../Data/Ongoing/after_media.pkl\")"
   ]
  },
  {
   "cell_type": "markdown",
   "metadata": {},
   "source": [
    "## Check maf_data -> add in maf_info.py"
   ]
  },
  {
   "cell_type": "code",
   "execution_count": 4,
   "metadata": {},
   "outputs": [
    {
     "data": {
      "text/plain": [
       "546"
      ]
     },
     "execution_count": 4,
     "metadata": {},
     "output_type": "execute_result"
    }
   ],
   "source": [
    "len(maf_data[\"Flat_one_hot\"].iloc[0].counts)"
   ]
  },
  {
   "cell_type": "code",
   "execution_count": 5,
   "metadata": {},
   "outputs": [
    {
     "data": {
      "text/plain": [
       "6552"
      ]
     },
     "execution_count": 5,
     "metadata": {},
     "output_type": "execute_result"
    }
   ],
   "source": [
    "len(maf_data[\"Alt_one_hot\"].iloc[0].counts)"
   ]
  },
  {
   "cell_type": "markdown",
   "metadata": {},
   "source": [
    "## Combine datasets"
   ]
  },
  {
   "cell_type": "code",
   "execution_count": 6,
   "metadata": {},
   "outputs": [],
   "source": [
    "# Create File name -> Should be in maf.py\n",
    "meta_data[\"File\"] = [str(x).split(\"/\")[-1] for x in meta_data[\"PANEL_oncotated_maf_mutect2\"]]"
   ]
  },
  {
   "cell_type": "code",
   "execution_count": 7,
   "metadata": {},
   "outputs": [
    {
     "data": {
      "text/html": [
       "<div>\n",
       "<style scoped>\n",
       "    .dataframe tbody tr th:only-of-type {\n",
       "        vertical-align: middle;\n",
       "    }\n",
       "\n",
       "    .dataframe tbody tr th {\n",
       "        vertical-align: top;\n",
       "    }\n",
       "\n",
       "    .dataframe thead th {\n",
       "        text-align: right;\n",
       "    }\n",
       "</style>\n",
       "<table border=\"1\" class=\"dataframe\">\n",
       "  <thead>\n",
       "    <tr style=\"text-align: right;\">\n",
       "      <th></th>\n",
       "      <th>Cell_Line_Starting_Sample</th>\n",
       "      <th>PT-ID</th>\n",
       "      <th>SM-ID</th>\n",
       "      <th>Status</th>\n",
       "      <th>Resolution_Original</th>\n",
       "      <th>Type</th>\n",
       "      <th>Primary_Disease</th>\n",
       "      <th>Tissue_Site</th>\n",
       "      <th>Tumor_Type</th>\n",
       "      <th>Cell_Line</th>\n",
       "      <th>...</th>\n",
       "      <th>RNA_star_md_bam_index</th>\n",
       "      <th>RNA_star_read_counts</th>\n",
       "      <th>RNA_star_transcriptome_bam</th>\n",
       "      <th>WES_formatted_bai_file</th>\n",
       "      <th>WES_formatted_bam_file</th>\n",
       "      <th>WES_cnv_calls</th>\n",
       "      <th>RNA_match</th>\n",
       "      <th>media_class</th>\n",
       "      <th>one-hot</th>\n",
       "      <th>File</th>\n",
       "    </tr>\n",
       "    <tr>\n",
       "      <th>entity:sample_id</th>\n",
       "      <th></th>\n",
       "      <th></th>\n",
       "      <th></th>\n",
       "      <th></th>\n",
       "      <th></th>\n",
       "      <th></th>\n",
       "      <th></th>\n",
       "      <th></th>\n",
       "      <th></th>\n",
       "      <th></th>\n",
       "      <th></th>\n",
       "      <th></th>\n",
       "      <th></th>\n",
       "      <th></th>\n",
       "      <th></th>\n",
       "      <th></th>\n",
       "      <th></th>\n",
       "      <th></th>\n",
       "      <th></th>\n",
       "      <th></th>\n",
       "      <th></th>\n",
       "    </tr>\n",
       "  </thead>\n",
       "  <tbody>\n",
       "    <tr>\n",
       "      <th>DW036T_0</th>\n",
       "      <td>DW036T</td>\n",
       "      <td>NaN</td>\n",
       "      <td>SM-CNRSK</td>\n",
       "      <td>Closed</td>\n",
       "      <td>Completed</td>\n",
       "      <td>Tumor</td>\n",
       "      <td>NaN</td>\n",
       "      <td>NaN</td>\n",
       "      <td>NaN</td>\n",
       "      <td>DW036T</td>\n",
       "      <td>...</td>\n",
       "      <td>NaN</td>\n",
       "      <td>gs://fc-b3a85406-97fd-452d-bbff-a44c92749ada/b...</td>\n",
       "      <td>gs://fc-b3a85406-97fd-452d-bbff-a44c92749ada/b...</td>\n",
       "      <td>NaN</td>\n",
       "      <td>NaN</td>\n",
       "      <td>NaN</td>\n",
       "      <td>Unsure</td>\n",
       "      <td>GrowthMedium(media={'AR5': Medium(name='AR5', ...</td>\n",
       "      <td>GrowthMedium_one_hot(media=Medium_one_hot(coun...</td>\n",
       "      <td>DW036-Tumor-SM-DB2K4.mutect2.maf.annotated</td>\n",
       "    </tr>\n",
       "    <tr>\n",
       "      <th>DW036T_1</th>\n",
       "      <td>DW036T</td>\n",
       "      <td>PT-21FSL</td>\n",
       "      <td>NaN</td>\n",
       "      <td>Closed</td>\n",
       "      <td>Completed</td>\n",
       "      <td>Tumor</td>\n",
       "      <td>t-pll</td>\n",
       "      <td>NaN</td>\n",
       "      <td>NaN</td>\n",
       "      <td>DW036T</td>\n",
       "      <td>...</td>\n",
       "      <td>NaN</td>\n",
       "      <td>gs://fc-b3a85406-97fd-452d-bbff-a44c92749ada/b...</td>\n",
       "      <td>gs://fc-b3a85406-97fd-452d-bbff-a44c92749ada/b...</td>\n",
       "      <td>NaN</td>\n",
       "      <td>NaN</td>\n",
       "      <td>NaN</td>\n",
       "      <td>Unsure</td>\n",
       "      <td>GrowthMedium(media={'AR5': Medium(name='AR5', ...</td>\n",
       "      <td>GrowthMedium_one_hot(media=Medium_one_hot(coun...</td>\n",
       "      <td>DW036-Tumor-SM-DB2K4.mutect2.maf.annotated</td>\n",
       "    </tr>\n",
       "    <tr>\n",
       "      <th>DW036T_2</th>\n",
       "      <td>DW036T</td>\n",
       "      <td>NaN</td>\n",
       "      <td>SM-CNRSM</td>\n",
       "      <td>Closed</td>\n",
       "      <td>Terminated</td>\n",
       "      <td>Tumor</td>\n",
       "      <td>NaN</td>\n",
       "      <td>NaN</td>\n",
       "      <td>NaN</td>\n",
       "      <td>DW036T</td>\n",
       "      <td>...</td>\n",
       "      <td>NaN</td>\n",
       "      <td>gs://fc-b3a85406-97fd-452d-bbff-a44c92749ada/b...</td>\n",
       "      <td>gs://fc-b3a85406-97fd-452d-bbff-a44c92749ada/b...</td>\n",
       "      <td>NaN</td>\n",
       "      <td>NaN</td>\n",
       "      <td>NaN</td>\n",
       "      <td>Unsure</td>\n",
       "      <td>GrowthMedium(media={'Xvivo-15': Medium(name='X...</td>\n",
       "      <td>GrowthMedium_one_hot(media=Medium_one_hot(coun...</td>\n",
       "      <td>DW036-Tumor-SM-DB2K4.mutect2.maf.annotated</td>\n",
       "    </tr>\n",
       "    <tr>\n",
       "      <th>DW036T_3</th>\n",
       "      <td>DW036T</td>\n",
       "      <td>NaN</td>\n",
       "      <td>SM-CNRSJ</td>\n",
       "      <td>Closed</td>\n",
       "      <td>Terminated</td>\n",
       "      <td>Tumor</td>\n",
       "      <td>NaN</td>\n",
       "      <td>NaN</td>\n",
       "      <td>NaN</td>\n",
       "      <td>DW036T</td>\n",
       "      <td>...</td>\n",
       "      <td>NaN</td>\n",
       "      <td>gs://fc-b3a85406-97fd-452d-bbff-a44c92749ada/b...</td>\n",
       "      <td>gs://fc-b3a85406-97fd-452d-bbff-a44c92749ada/b...</td>\n",
       "      <td>NaN</td>\n",
       "      <td>NaN</td>\n",
       "      <td>NaN</td>\n",
       "      <td>Unsure</td>\n",
       "      <td>GrowthMedium(media={'AR5': Medium(name='AR5', ...</td>\n",
       "      <td>GrowthMedium_one_hot(media=Medium_one_hot(coun...</td>\n",
       "      <td>DW036-Tumor-SM-DB2K4.mutect2.maf.annotated</td>\n",
       "    </tr>\n",
       "    <tr>\n",
       "      <th>DW036T_4</th>\n",
       "      <td>DW036T</td>\n",
       "      <td>PT-21FSL</td>\n",
       "      <td>SM-CNRSL</td>\n",
       "      <td>Closed</td>\n",
       "      <td>Verified Tumor</td>\n",
       "      <td>Tumor</td>\n",
       "      <td>t-pll</td>\n",
       "      <td>Blood</td>\n",
       "      <td>Primary</td>\n",
       "      <td>DW036T</td>\n",
       "      <td>...</td>\n",
       "      <td>NaN</td>\n",
       "      <td>gs://fc-b3a85406-97fd-452d-bbff-a44c92749ada/b...</td>\n",
       "      <td>gs://fc-b3a85406-97fd-452d-bbff-a44c92749ada/b...</td>\n",
       "      <td>NaN</td>\n",
       "      <td>NaN</td>\n",
       "      <td>NaN</td>\n",
       "      <td>Unsure</td>\n",
       "      <td>GrowthMedium(media={'Xvivo-15': Medium(name='X...</td>\n",
       "      <td>GrowthMedium_one_hot(media=Medium_one_hot(coun...</td>\n",
       "      <td>DW036-Tumor-SM-DB2K4.mutect2.maf.annotated</td>\n",
       "    </tr>\n",
       "    <tr>\n",
       "      <th>...</th>\n",
       "      <td>...</td>\n",
       "      <td>...</td>\n",
       "      <td>...</td>\n",
       "      <td>...</td>\n",
       "      <td>...</td>\n",
       "      <td>...</td>\n",
       "      <td>...</td>\n",
       "      <td>...</td>\n",
       "      <td>...</td>\n",
       "      <td>...</td>\n",
       "      <td>...</td>\n",
       "      <td>...</td>\n",
       "      <td>...</td>\n",
       "      <td>...</td>\n",
       "      <td>...</td>\n",
       "      <td>...</td>\n",
       "      <td>...</td>\n",
       "      <td>...</td>\n",
       "      <td>...</td>\n",
       "      <td>...</td>\n",
       "      <td>...</td>\n",
       "    </tr>\n",
       "    <tr>\n",
       "      <th>SM-J8A8G_12</th>\n",
       "      <td>SM-J8A8G</td>\n",
       "      <td>PT-2NPEJ</td>\n",
       "      <td>SM-JKWXJ</td>\n",
       "      <td>Closed</td>\n",
       "      <td>Verified Tumor</td>\n",
       "      <td>Tumor</td>\n",
       "      <td>medulloblastoma</td>\n",
       "      <td>Brain</td>\n",
       "      <td>Primary</td>\n",
       "      <td>CCLF_KL1338T</td>\n",
       "      <td>...</td>\n",
       "      <td>NaN</td>\n",
       "      <td>NaN</td>\n",
       "      <td>NaN</td>\n",
       "      <td>NaN</td>\n",
       "      <td>NaN</td>\n",
       "      <td>NaN</td>\n",
       "      <td>Unsure</td>\n",
       "      <td>GrowthMedium(media={'OPAC': Medium(name='OPAC'...</td>\n",
       "      <td>GrowthMedium_one_hot(media=Medium_one_hot(coun...</td>\n",
       "      <td>SM-JL77Q.mutect2.maf.annotated</td>\n",
       "    </tr>\n",
       "    <tr>\n",
       "      <th>SM-J8A8G_13</th>\n",
       "      <td>SM-J8A8G</td>\n",
       "      <td>PT-2NPEJ</td>\n",
       "      <td>SM-JKWXK</td>\n",
       "      <td>Closed</td>\n",
       "      <td>Verified Tumor</td>\n",
       "      <td>Tumor</td>\n",
       "      <td>medulloblastoma</td>\n",
       "      <td>Brain</td>\n",
       "      <td>Primary</td>\n",
       "      <td>CCLF_KL1338T</td>\n",
       "      <td>...</td>\n",
       "      <td>NaN</td>\n",
       "      <td>NaN</td>\n",
       "      <td>NaN</td>\n",
       "      <td>NaN</td>\n",
       "      <td>NaN</td>\n",
       "      <td>NaN</td>\n",
       "      <td>Unsure</td>\n",
       "      <td>GrowthMedium(media={'OPAC': Medium(name='OPAC'...</td>\n",
       "      <td>GrowthMedium_one_hot(media=Medium_one_hot(coun...</td>\n",
       "      <td>SM-JL77Q.mutect2.maf.annotated</td>\n",
       "    </tr>\n",
       "    <tr>\n",
       "      <th>SM-J8A8G_14</th>\n",
       "      <td>SM-J8A8G</td>\n",
       "      <td>PT-2NPEJ</td>\n",
       "      <td>SM-JKWXL</td>\n",
       "      <td>Closed</td>\n",
       "      <td>Verified Tumor</td>\n",
       "      <td>Tumor</td>\n",
       "      <td>medulloblastoma</td>\n",
       "      <td>Brain</td>\n",
       "      <td>Primary</td>\n",
       "      <td>CCLF_KL1338T</td>\n",
       "      <td>...</td>\n",
       "      <td>NaN</td>\n",
       "      <td>NaN</td>\n",
       "      <td>NaN</td>\n",
       "      <td>NaN</td>\n",
       "      <td>NaN</td>\n",
       "      <td>NaN</td>\n",
       "      <td>Unsure</td>\n",
       "      <td>GrowthMedium(media={'OPAC': Medium(name='OPAC'...</td>\n",
       "      <td>GrowthMedium_one_hot(media=Medium_one_hot(coun...</td>\n",
       "      <td>SM-JL77Q.mutect2.maf.annotated</td>\n",
       "    </tr>\n",
       "    <tr>\n",
       "      <th>SM-J8A8G_15</th>\n",
       "      <td>SM-J8A8G</td>\n",
       "      <td>PT-2NPEJ</td>\n",
       "      <td>SM-JKWXN</td>\n",
       "      <td>Closed</td>\n",
       "      <td>Verified Tumor</td>\n",
       "      <td>Tumor</td>\n",
       "      <td>medulloblastoma</td>\n",
       "      <td>Brain</td>\n",
       "      <td>Primary</td>\n",
       "      <td>CCLF_KL1338T</td>\n",
       "      <td>...</td>\n",
       "      <td>NaN</td>\n",
       "      <td>NaN</td>\n",
       "      <td>NaN</td>\n",
       "      <td>NaN</td>\n",
       "      <td>NaN</td>\n",
       "      <td>NaN</td>\n",
       "      <td>Unsure</td>\n",
       "      <td>GrowthMedium(media={'E8': Medium(name='E8', am...</td>\n",
       "      <td>GrowthMedium_one_hot(media=Medium_one_hot(coun...</td>\n",
       "      <td>SM-JL77Q.mutect2.maf.annotated</td>\n",
       "    </tr>\n",
       "    <tr>\n",
       "      <th>SM-J8A8G_16</th>\n",
       "      <td>SM-J8A8G</td>\n",
       "      <td>PT-2NPEJ</td>\n",
       "      <td>SM-JKWXO</td>\n",
       "      <td>Closed</td>\n",
       "      <td>Verified Tumor</td>\n",
       "      <td>Tumor</td>\n",
       "      <td>medulloblastoma</td>\n",
       "      <td>Brain</td>\n",
       "      <td>Primary</td>\n",
       "      <td>CCLF_KL1338T</td>\n",
       "      <td>...</td>\n",
       "      <td>NaN</td>\n",
       "      <td>NaN</td>\n",
       "      <td>NaN</td>\n",
       "      <td>NaN</td>\n",
       "      <td>NaN</td>\n",
       "      <td>NaN</td>\n",
       "      <td>Unsure</td>\n",
       "      <td>GrowthMedium(media={'EGM': Medium(name='EGM', ...</td>\n",
       "      <td>GrowthMedium_one_hot(media=Medium_one_hot(coun...</td>\n",
       "      <td>SM-JL77Q.mutect2.maf.annotated</td>\n",
       "    </tr>\n",
       "  </tbody>\n",
       "</table>\n",
       "<p>3380 rows × 63 columns</p>\n",
       "</div>"
      ],
      "text/plain": [
       "                 Cell_Line_Starting_Sample     PT-ID     SM-ID  Status  \\\n",
       "entity:sample_id                                                         \n",
       "DW036T_0                            DW036T       NaN  SM-CNRSK  Closed   \n",
       "DW036T_1                            DW036T  PT-21FSL       NaN  Closed   \n",
       "DW036T_2                            DW036T       NaN  SM-CNRSM  Closed   \n",
       "DW036T_3                            DW036T       NaN  SM-CNRSJ  Closed   \n",
       "DW036T_4                            DW036T  PT-21FSL  SM-CNRSL  Closed   \n",
       "...                                    ...       ...       ...     ...   \n",
       "SM-J8A8G_12                       SM-J8A8G  PT-2NPEJ  SM-JKWXJ  Closed   \n",
       "SM-J8A8G_13                       SM-J8A8G  PT-2NPEJ  SM-JKWXK  Closed   \n",
       "SM-J8A8G_14                       SM-J8A8G  PT-2NPEJ  SM-JKWXL  Closed   \n",
       "SM-J8A8G_15                       SM-J8A8G  PT-2NPEJ  SM-JKWXN  Closed   \n",
       "SM-J8A8G_16                       SM-J8A8G  PT-2NPEJ  SM-JKWXO  Closed   \n",
       "\n",
       "                 Resolution_Original   Type  Primary_Disease Tissue_Site  \\\n",
       "entity:sample_id                                                           \n",
       "DW036T_0                   Completed  Tumor              NaN         NaN   \n",
       "DW036T_1                   Completed  Tumor            t-pll         NaN   \n",
       "DW036T_2                  Terminated  Tumor              NaN         NaN   \n",
       "DW036T_3                  Terminated  Tumor              NaN         NaN   \n",
       "DW036T_4              Verified Tumor  Tumor            t-pll       Blood   \n",
       "...                              ...    ...              ...         ...   \n",
       "SM-J8A8G_12           Verified Tumor  Tumor  medulloblastoma       Brain   \n",
       "SM-J8A8G_13           Verified Tumor  Tumor  medulloblastoma       Brain   \n",
       "SM-J8A8G_14           Verified Tumor  Tumor  medulloblastoma       Brain   \n",
       "SM-J8A8G_15           Verified Tumor  Tumor  medulloblastoma       Brain   \n",
       "SM-J8A8G_16           Verified Tumor  Tumor  medulloblastoma       Brain   \n",
       "\n",
       "                 Tumor_Type     Cell_Line  ... RNA_star_md_bam_index  \\\n",
       "entity:sample_id                           ...                         \n",
       "DW036T_0                NaN        DW036T  ...                   NaN   \n",
       "DW036T_1                NaN        DW036T  ...                   NaN   \n",
       "DW036T_2                NaN        DW036T  ...                   NaN   \n",
       "DW036T_3                NaN        DW036T  ...                   NaN   \n",
       "DW036T_4            Primary        DW036T  ...                   NaN   \n",
       "...                     ...           ...  ...                   ...   \n",
       "SM-J8A8G_12         Primary  CCLF_KL1338T  ...                   NaN   \n",
       "SM-J8A8G_13         Primary  CCLF_KL1338T  ...                   NaN   \n",
       "SM-J8A8G_14         Primary  CCLF_KL1338T  ...                   NaN   \n",
       "SM-J8A8G_15         Primary  CCLF_KL1338T  ...                   NaN   \n",
       "SM-J8A8G_16         Primary  CCLF_KL1338T  ...                   NaN   \n",
       "\n",
       "                                               RNA_star_read_counts  \\\n",
       "entity:sample_id                                                      \n",
       "DW036T_0          gs://fc-b3a85406-97fd-452d-bbff-a44c92749ada/b...   \n",
       "DW036T_1          gs://fc-b3a85406-97fd-452d-bbff-a44c92749ada/b...   \n",
       "DW036T_2          gs://fc-b3a85406-97fd-452d-bbff-a44c92749ada/b...   \n",
       "DW036T_3          gs://fc-b3a85406-97fd-452d-bbff-a44c92749ada/b...   \n",
       "DW036T_4          gs://fc-b3a85406-97fd-452d-bbff-a44c92749ada/b...   \n",
       "...                                                             ...   \n",
       "SM-J8A8G_12                                                     NaN   \n",
       "SM-J8A8G_13                                                     NaN   \n",
       "SM-J8A8G_14                                                     NaN   \n",
       "SM-J8A8G_15                                                     NaN   \n",
       "SM-J8A8G_16                                                     NaN   \n",
       "\n",
       "                                         RNA_star_transcriptome_bam  \\\n",
       "entity:sample_id                                                      \n",
       "DW036T_0          gs://fc-b3a85406-97fd-452d-bbff-a44c92749ada/b...   \n",
       "DW036T_1          gs://fc-b3a85406-97fd-452d-bbff-a44c92749ada/b...   \n",
       "DW036T_2          gs://fc-b3a85406-97fd-452d-bbff-a44c92749ada/b...   \n",
       "DW036T_3          gs://fc-b3a85406-97fd-452d-bbff-a44c92749ada/b...   \n",
       "DW036T_4          gs://fc-b3a85406-97fd-452d-bbff-a44c92749ada/b...   \n",
       "...                                                             ...   \n",
       "SM-J8A8G_12                                                     NaN   \n",
       "SM-J8A8G_13                                                     NaN   \n",
       "SM-J8A8G_14                                                     NaN   \n",
       "SM-J8A8G_15                                                     NaN   \n",
       "SM-J8A8G_16                                                     NaN   \n",
       "\n",
       "                 WES_formatted_bai_file WES_formatted_bam_file WES_cnv_calls  \\\n",
       "entity:sample_id                                                               \n",
       "DW036T_0                            NaN                    NaN           NaN   \n",
       "DW036T_1                            NaN                    NaN           NaN   \n",
       "DW036T_2                            NaN                    NaN           NaN   \n",
       "DW036T_3                            NaN                    NaN           NaN   \n",
       "DW036T_4                            NaN                    NaN           NaN   \n",
       "...                                 ...                    ...           ...   \n",
       "SM-J8A8G_12                         NaN                    NaN           NaN   \n",
       "SM-J8A8G_13                         NaN                    NaN           NaN   \n",
       "SM-J8A8G_14                         NaN                    NaN           NaN   \n",
       "SM-J8A8G_15                         NaN                    NaN           NaN   \n",
       "SM-J8A8G_16                         NaN                    NaN           NaN   \n",
       "\n",
       "                 RNA_match                                        media_class  \\\n",
       "entity:sample_id                                                                \n",
       "DW036T_0            Unsure  GrowthMedium(media={'AR5': Medium(name='AR5', ...   \n",
       "DW036T_1            Unsure  GrowthMedium(media={'AR5': Medium(name='AR5', ...   \n",
       "DW036T_2            Unsure  GrowthMedium(media={'Xvivo-15': Medium(name='X...   \n",
       "DW036T_3            Unsure  GrowthMedium(media={'AR5': Medium(name='AR5', ...   \n",
       "DW036T_4            Unsure  GrowthMedium(media={'Xvivo-15': Medium(name='X...   \n",
       "...                    ...                                                ...   \n",
       "SM-J8A8G_12         Unsure  GrowthMedium(media={'OPAC': Medium(name='OPAC'...   \n",
       "SM-J8A8G_13         Unsure  GrowthMedium(media={'OPAC': Medium(name='OPAC'...   \n",
       "SM-J8A8G_14         Unsure  GrowthMedium(media={'OPAC': Medium(name='OPAC'...   \n",
       "SM-J8A8G_15         Unsure  GrowthMedium(media={'E8': Medium(name='E8', am...   \n",
       "SM-J8A8G_16         Unsure  GrowthMedium(media={'EGM': Medium(name='EGM', ...   \n",
       "\n",
       "                                                            one-hot  \\\n",
       "entity:sample_id                                                      \n",
       "DW036T_0          GrowthMedium_one_hot(media=Medium_one_hot(coun...   \n",
       "DW036T_1          GrowthMedium_one_hot(media=Medium_one_hot(coun...   \n",
       "DW036T_2          GrowthMedium_one_hot(media=Medium_one_hot(coun...   \n",
       "DW036T_3          GrowthMedium_one_hot(media=Medium_one_hot(coun...   \n",
       "DW036T_4          GrowthMedium_one_hot(media=Medium_one_hot(coun...   \n",
       "...                                                             ...   \n",
       "SM-J8A8G_12       GrowthMedium_one_hot(media=Medium_one_hot(coun...   \n",
       "SM-J8A8G_13       GrowthMedium_one_hot(media=Medium_one_hot(coun...   \n",
       "SM-J8A8G_14       GrowthMedium_one_hot(media=Medium_one_hot(coun...   \n",
       "SM-J8A8G_15       GrowthMedium_one_hot(media=Medium_one_hot(coun...   \n",
       "SM-J8A8G_16       GrowthMedium_one_hot(media=Medium_one_hot(coun...   \n",
       "\n",
       "                                                        File  \n",
       "entity:sample_id                                              \n",
       "DW036T_0          DW036-Tumor-SM-DB2K4.mutect2.maf.annotated  \n",
       "DW036T_1          DW036-Tumor-SM-DB2K4.mutect2.maf.annotated  \n",
       "DW036T_2          DW036-Tumor-SM-DB2K4.mutect2.maf.annotated  \n",
       "DW036T_3          DW036-Tumor-SM-DB2K4.mutect2.maf.annotated  \n",
       "DW036T_4          DW036-Tumor-SM-DB2K4.mutect2.maf.annotated  \n",
       "...                                                      ...  \n",
       "SM-J8A8G_12                   SM-JL77Q.mutect2.maf.annotated  \n",
       "SM-J8A8G_13                   SM-JL77Q.mutect2.maf.annotated  \n",
       "SM-J8A8G_14                   SM-JL77Q.mutect2.maf.annotated  \n",
       "SM-J8A8G_15                   SM-JL77Q.mutect2.maf.annotated  \n",
       "SM-J8A8G_16                   SM-JL77Q.mutect2.maf.annotated  \n",
       "\n",
       "[3380 rows x 63 columns]"
      ]
     },
     "execution_count": 7,
     "metadata": {},
     "output_type": "execute_result"
    }
   ],
   "source": [
    "meta_data"
   ]
  },
  {
   "cell_type": "code",
   "execution_count": 8,
   "metadata": {},
   "outputs": [],
   "source": [
    "data = pd.merge(meta_data, maf_data, on=\"File\")"
   ]
  },
  {
   "cell_type": "code",
   "execution_count": 9,
   "metadata": {},
   "outputs": [],
   "source": [
    "# Input with media as input\n",
    "input_data = data.apply(lambda x: np.append(x[\"Flat_one_hot\"].counts, x[\"one-hot\"].media.counts), axis=1)\n",
    "input_data = np.vstack(input_data)\n",
    "\n",
    "#Specify Ouput \n",
    "output_data = np.vstack(data[\"Growth\"])\n",
    "output_data = np.ravel(output_data)"
   ]
  },
  {
   "cell_type": "code",
   "execution_count": 10,
   "metadata": {},
   "outputs": [],
   "source": [
    "# Input with media+supplements as input\n",
    "input_data_supplements = data.apply(lambda x: np.append(x[\"Flat_one_hot\"].counts, np.append(x[\"one-hot\"].media.counts, x[\"one-hot\"].supplements.counts)), axis=1)\n",
    "input_data_supplements = np.vstack(input_data_supplements)\n",
    "\n",
    "#Specify Ouput \n",
    "output_data_supplements = np.vstack(data[\"Growth\"])\n",
    "output_data_supplements = np.ravel(output_data_supplements)"
   ]
  },
  {
   "cell_type": "code",
   "execution_count": 11,
   "metadata": {},
   "outputs": [],
   "source": [
    "# With media as output next to growing\n",
    "#Specify input\n",
    "input_data_neural = np.vstack([x.counts for x in data[\"Flat_one_hot\"]])\n",
    "\n",
    "#Specify Ouput \n",
    "# Add array which has one-hot media+supplements with growing not growing\n",
    "output_data_neural = data.apply(lambda x: np.append(np.append(x[\"one-hot\"].media.counts, x[\"one-hot\"].supplements.counts), x[\"Growth\"]), axis=1)\n",
    "output_data_neural = np.vstack(output_data_neural)"
   ]
  },
  {
   "cell_type": "code",
   "execution_count": 12,
   "metadata": {},
   "outputs": [],
   "source": [
    "data_terra = {\"input_data\": input_data.tolist(), \n",
    "              \"output_data\": output_data.tolist(), \n",
    "              \"input_data_supplements\":input_data_supplements.tolist(), \n",
    "              \"output_data_supplements\": output_data_supplements.tolist(), \n",
    "              \"input_data_neural\": input_data_neural.tolist(), \n",
    "              \"output_data_neural\":output_data_neural.tolist()\n",
    "             }"
   ]
  },
  {
   "cell_type": "code",
   "execution_count": 13,
   "metadata": {},
   "outputs": [],
   "source": [
    "import json\n",
    "with open('../Data/Ongoing/result.json', 'w') as fp:\n",
    "    json.dump(data_terra, fp)"
   ]
  },
  {
   "cell_type": "markdown",
   "metadata": {},
   "source": [
    "# Label Encoder"
   ]
  },
  {
   "cell_type": "code",
   "execution_count": null,
   "metadata": {},
   "outputs": [],
   "source": [
    "#Create one-hot encoding for genes"
   ]
  },
  {
   "cell_type": "code",
   "execution_count": null,
   "metadata": {},
   "outputs": [],
   "source": [
    "def data_maf(data, Path):\n",
    "    '''\n",
    "\n",
    "    '''\n",
    "    if Path != False:\n",
    "        if not Path.endswith(\".pkl\"):\n",
    "            Path = Path + \"maf_extract.pkl\"\n",
    "        \n",
    "        data = pd.read_pickle(Path)\n",
    "\n",
    "    return data\n",
    "\n",
    "data_maf = data_maf(data=False, Path=\"../Data/Ongoing/\")"
   ]
  },
  {
   "cell_type": "code",
   "execution_count": null,
   "metadata": {},
   "outputs": [],
   "source": [
    "data_maf"
   ]
  },
  {
   "cell_type": "markdown",
   "metadata": {},
   "source": [
    "# Genes vs n_samples"
   ]
  },
  {
   "cell_type": "code",
   "execution_count": null,
   "metadata": {},
   "outputs": [],
   "source": [
    "total_array = sum([x.counts for x in maf_data[\"Flat_one_hot\"]])\n",
    "n_samples = {}\n",
    "from math import log2\n",
    "for n in range(10, len(maf_data[\"Flat_one_hot\"].iloc[0].counts), 10):\n",
    "    tmp_data = maf_data\n",
    "    # Drop all which are not n highest\n",
    "    index_drop = np.argsort(total_array)[:n]\n",
    "\n",
    "    # Should work with drop function in class but this is also nice for now\n",
    "    index = [index for index, x in enumerate(tmp_data[\"Flat_one_hot\"]) if sum(np.delete(x.counts, index_drop)) > 1]\n",
    "    n_samples[n] = log2(len(index))"
   ]
  },
  {
   "cell_type": "code",
   "execution_count": null,
   "metadata": {},
   "outputs": [],
   "source": [
    "import matplotlib.pylab as plt\n",
    "\n",
    "lists = sorted(n_samples.items()) # sorted by key, return a list of tuples\n",
    "\n",
    "x, y = zip(*lists) # unpack a list of pairs into two tuples\n",
    "\n",
    "plt.plot(y, x)\n",
    "plt.show()"
   ]
  },
  {
   "cell_type": "code",
   "execution_count": null,
   "metadata": {},
   "outputs": [],
   "source": [
    "total_array[np.argsort(-total_array)[:10]]"
   ]
  },
  {
   "cell_type": "code",
   "execution_count": null,
   "metadata": {},
   "outputs": [],
   "source": [
    "y = sorted(total_array/len(maf_data))*100, reverse=True)"
   ]
  },
  {
   "cell_type": "code",
   "execution_count": null,
   "metadata": {},
   "outputs": [],
   "source": [
    "plt.plot(list(range(0, len(total_array))), y)"
   ]
  },
  {
   "cell_type": "code",
   "execution_count": null,
   "metadata": {},
   "outputs": [],
   "source": [
    "len([x for x in y if x > 3])"
   ]
  },
  {
   "cell_type": "code",
   "execution_count": null,
   "metadata": {},
   "outputs": [],
   "source": [
    "len([x for x in y if x <= 3])"
   ]
  },
  {
   "cell_type": "code",
   "execution_count": null,
   "metadata": {},
   "outputs": [],
   "source": [
    "0.03*547"
   ]
  },
  {
   "cell_type": "code",
   "execution_count": null,
   "metadata": {},
   "outputs": [],
   "source": [
    "data_maf[\"Ensembl_so_term\"].unique()"
   ]
  },
  {
   "cell_type": "code",
   "execution_count": null,
   "metadata": {},
   "outputs": [],
   "source": [
    "data_maf[data_maf[\"Ensembl_so_term\"] == '']"
   ]
  },
  {
   "cell_type": "code",
   "execution_count": null,
   "metadata": {},
   "outputs": [],
   "source": [
    "data_maf[\"Variant_Classification\"].unique()"
   ]
  },
  {
   "cell_type": "code",
   "execution_count": null,
   "metadata": {},
   "outputs": [],
   "source": [
    "data_maf = data_maf[~data_maf[\"Variant_Classification\"].isin([\"Intron\", \"lincRNA\", \"IGR\", \"5'Flank\", \"5'UTR\", \"Silent\", \"3'UTR\", \"RNA\"])]"
   ]
  },
  {
   "cell_type": "code",
   "execution_count": null,
   "metadata": {},
   "outputs": [],
   "source": [
    "len(test[\"Hugo_Symbol\"].unique())"
   ]
  },
  {
   "cell_type": "code",
   "execution_count": null,
   "metadata": {},
   "outputs": [],
   "source": [
    "maf_data"
   ]
  },
  {
   "cell_type": "code",
   "execution_count": null,
   "metadata": {},
   "outputs": [],
   "source": [
    "maf_data"
   ]
  },
  {
   "cell_type": "code",
   "execution_count": null,
   "metadata": {},
   "outputs": [],
   "source": []
  },
  {
   "cell_type": "code",
   "execution_count": 80,
   "metadata": {},
   "outputs": [],
   "source": [
    "import matplotlib.pyplot as plt\n",
    "import numpy as np\n",
    "import seaborn as sns\n",
    "import matplotlib as mpl\n"
   ]
  },
  {
   "cell_type": "code",
   "execution_count": 69,
   "metadata": {},
   "outputs": [],
   "source": [
    "highest_scores = np.array([ 65,  32,  11,  18,   1,  54,  45, 122, 119, 196,  94,  42,  50,\n",
    "        26,  13,  40,  57,  22,  12,  69,  39, 193,  67,  15,  68, 173,\n",
    "       475, 103,  34,  10, 121, 137,  74,   0,  28,  24,  19,  60, 175,\n",
    "        79, 341,  56,  21,  66, 132,  71,  49,  70,  31,  20])"
   ]
  },
  {
   "cell_type": "code",
   "execution_count": 105,
   "metadata": {},
   "outputs": [],
   "source": [
    "genes1 = maf_data.iloc[0][\"Flat_one_hot\"].levels[highest_scores]"
   ]
  },
  {
   "cell_type": "code",
   "execution_count": 106,
   "metadata": {},
   "outputs": [],
   "source": [
    "f_score =np.array([0.01666961, 0.01132254, 0.0099653 , 0.00991753, 0.00972287,\n",
    "       0.00969755, 0.00928758, 0.00885865, 0.0081736 , 0.00810445,\n",
    "       0.00782665, 0.00780647, 0.00745482, 0.00744726, 0.00738917,\n",
    "       0.00732615, 0.00731124, 0.00727611, 0.00724983, 0.007246  ,\n",
    "       0.00721687, 0.0070789 , 0.00703388, 0.00696101, 0.00687487,\n",
    "       0.00675286, 0.00674249, 0.00673017, 0.00671632, 0.00663203,\n",
    "       0.00651537, 0.00635222, 0.00633557, 0.00625092, 0.00610628,\n",
    "       0.00603388, 0.00601596, 0.00593654, 0.0059038 , 0.00586776,\n",
    "       0.00586601, 0.005836  , 0.00581197, 0.00572172, 0.00561348,\n",
    "       0.00554247, 0.00538834, 0.00536273, 0.00533978, 0.00519852])"
   ]
  },
  {
   "cell_type": "code",
   "execution_count": 104,
   "metadata": {},
   "outputs": [
    {
     "data": {
      "text/plain": [
       "[Text(0, 0, 'SMARCA4'),\n",
       " Text(0, 0, 'PTCH1'),\n",
       " Text(0, 0, 'PIK3CA'),\n",
       " Text(0, 0, 'APC'),\n",
       " Text(0, 0, 'NOTCH2'),\n",
       " Text(0, 0, 'TP53'),\n",
       " Text(0, 0, 'BRCA2'),\n",
       " Text(0, 0, 'BRAF'),\n",
       " Text(0, 0, 'GNAS'),\n",
       " Text(0, 0, 'DSP'),\n",
       " Text(0, 0, 'KIAA1211'),\n",
       " Text(0, 0, 'KMT2D'),\n",
       " Text(0, 0, 'TSC2'),\n",
       " Text(0, 0, 'MET'),\n",
       " Text(0, 0, 'TET2'),\n",
       " Text(0, 0, 'CDKN1B'),\n",
       " Text(0, 0, 'ERBB2'),\n",
       " Text(0, 0, 'NSD1'),\n",
       " Text(0, 0, 'FGFR3'),\n",
       " Text(0, 0, 'PLCG1'),\n",
       " Text(0, 0, 'KMT2A'),\n",
       " Text(0, 0, 'GABRA4'),\n",
       " Text(0, 0, 'AKT2'),\n",
       " Text(0, 0, 'MAP3K1'),\n",
       " Text(0, 0, 'ERCC2'),\n",
       " Text(0, 0, 'CCND2'),\n",
       " Text(0, 0, 'DZANK1'),\n",
       " Text(0, 0, 'PDGFRA'),\n",
       " Text(0, 0, 'NOTCH1'),\n",
       " Text(0, 0, 'ATR'),\n",
       " Text(0, 0, 'ERBB4'),\n",
       " Text(0, 0, 'RB1'),\n",
       " Text(0, 0, 'EWSR1'),\n",
       " Text(0, 0, 'MTOR'),\n",
       " Text(0, 0, 'FGFR1'),\n",
       " Text(0, 0, 'ESR1'),\n",
       " Text(0, 0, 'PCDHAC2'),\n",
       " Text(0, 0, 'BRCA1'),\n",
       " Text(0, 0, 'MYC'),\n",
       " Text(0, 0, 'AR'),\n",
       " Text(0, 0, 'SYT6'),\n",
       " Text(0, 0, 'NF1'),\n",
       " Text(0, 0, 'PDGFRB'),\n",
       " Text(0, 0, 'BRD4'),\n",
       " Text(0, 0, 'DNMT3A'),\n",
       " Text(0, 0, 'ERG'),\n",
       " Text(0, 0, 'IGF1R'),\n",
       " Text(0, 0, 'RUNX1'),\n",
       " Text(0, 0, 'KLHL9'),\n",
       " Text(0, 0, 'PCDHGC5')]"
      ]
     },
     "execution_count": 104,
     "metadata": {},
     "output_type": "execute_result"
    },
    {
     "data": {
      "image/png": "[encoded data removed]",
      "text/plain": [
       "<Figure size 2304x1152 with 2 Axes>"
      ]
     },
     "metadata": {
      "needs_background": "light"
     },
     "output_type": "display_data"
    }
   ],
   "source": [
    "f, ax = plt.subplots(1, 2, figsize=(32, 16))\n",
    "ax1 = ax[0]\n",
    "ax2 = ax[1]\n",
    "ax1 = sns.barplot(x=genes1, y=f_score)\n",
    "ax1.set_xticklabels(ax1.get_xticklabels(), rotation=45, horizontalalignment='right')\n"
   ]
  },
  {
   "cell_type": "code",
   "execution_count": 71,
   "metadata": {},
   "outputs": [],
   "source": [
    "combined_genes = sum([x.counts[highest_scores] for x in maf_data[\"Flat_one_hot\"]])"
   ]
  },
  {
   "cell_type": "code",
   "execution_count": 72,
   "metadata": {},
   "outputs": [],
   "source": [
    "genes = highest_scores[np.argsort(combined_genes)]"
   ]
  },
  {
   "cell_type": "code",
   "execution_count": null,
   "metadata": {},
   "outputs": [],
   "source": []
  },
  {
   "cell_type": "code",
   "execution_count": 75,
   "metadata": {},
   "outputs": [],
   "source": [
    "gene_scores = np.array([x.counts[genes].tolist() for x in maf_data[\"Flat_one_hot\"]])"
   ]
  },
  {
   "cell_type": "code",
   "execution_count": 76,
   "metadata": {},
   "outputs": [
    {
     "data": {
      "text/plain": [
       "array([[0., 0., 0., ..., 1., 1., 1.],\n",
       "       [0., 0., 0., ..., 0., 1., 0.],\n",
       "       [0., 0., 0., ..., 0., 0., 0.],\n",
       "       ...,\n",
       "       [0., 0., 0., ..., 0., 1., 1.],\n",
       "       [0., 0., 0., ..., 1., 1., 1.],\n",
       "       [0., 0., 0., ..., 1., 0., 0.]])"
      ]
     },
     "execution_count": 76,
     "metadata": {},
     "output_type": "execute_result"
    }
   ],
   "source": [
    "gene_scores"
   ]
  },
  {
   "cell_type": "code",
   "execution_count": 111,
   "metadata": {},
   "outputs": [
    {
     "data": {
      "image/png": "[encoded data removed]",
      "text/plain": [
       "<Figure size 2304x1152 with 3 Axes>"
      ]
     },
     "metadata": {
      "needs_background": "light"
     },
     "output_type": "display_data"
    }
   ],
   "source": [
    "f, ax = plt.subplots(1, 2, figsize=(32, 16))\n",
    "ax1 = sns.barplot(x=genes1, y=f_score, ax=ax[0])\n",
    "ax1.set_xticklabels(ax1.get_xticklabels(), rotation=45, horizontalalignment='right')\n",
    "\n",
    "\n",
    "cmap = mpl.colors.ListedColormap(['k', 'r'])\n",
    "ax2 = sns.heatmap(gene_scores, ax=ax[1], cmap=cmap)"
   ]
  },
  {
   "cell_type": "code",
   "execution_count": null,
   "metadata": {},
   "outputs": [],
   "source": []
  }
 ],
 "metadata": {
  "kernelspec": {
   "display_name": "Python 3.8.1 64-bit ('Broad_env': virtualenv)",
   "language": "python",
   "name": "python38164bitbroadenvvirtualenvcc06190595da421ea68a050a83be054b"
  },
  "language_info": {
   "codemirror_mode": {
    "name": "ipython",
    "version": 3
   },
   "file_extension": ".py",
   "mimetype": "text/x-python",
   "name": "python",
   "nbconvert_exporter": "python",
   "pygments_lexer": "ipython3",
   "version": "3.8.1"
  }
 },
 "nbformat": 4,
 "nbformat_minor": 4
}
